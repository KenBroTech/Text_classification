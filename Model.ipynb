{
 "cells": [
  {
   "cell_type": "markdown",
   "id": "24ac3c7d-5411-48b2-b1fa-61438c24bfc5",
   "metadata": {},
   "source": [
    "# Natural Language Processing\n",
    "\n",
    "### What is Natural Language Processing\n",
    "\n",
    "<p> Natural Language Processing (NLP) is the application of computational techniques to the analysis and synthesis of natural language</p>\n",
    "\n",
    "### Applications of NLP\n",
    "- Text Classification\n",
    "- Intent Classification\n",
    "- Sentiment Analysis\n",
    "- Text Summarization\n",
    "\n",
    "### Objectives\n",
    "- To understand how text is processed for NLP tasks\n",
    "- Develop a text classiciation model\n",
    "- Do a performance analysis on the NLP model\n",
    "- Use the developed model to make predictions\n",
    "\n",
    "### Dataset\n",
    "[ag_news_subset](https://www.tensorflow.org/datasets/catalog/ag_news_subset)\r\n"
   ]
  },
  {
   "cell_type": "code",
   "execution_count": 1,
   "id": "e003661f-b23b-44e0-8e89-24f0cce6df43",
   "metadata": {},
   "outputs": [],
   "source": [
    "# Install tensorflow_datasets"
   ]
  },
  {
   "cell_type": "code",
   "execution_count": 2,
   "id": "9e0b2773-45de-49ff-8f9b-1ed558abdef8",
   "metadata": {},
   "outputs": [],
   "source": [
    "# Import libraries ------- [keras, numpy, tensorflow, tensorflow_datasets, matplotlib]"
   ]
  },
  {
   "cell_type": "code",
   "execution_count": null,
   "id": "859ae234-14ef-47a6-97c6-4ebfecc6882b",
   "metadata": {},
   "outputs": [],
   "source": [
    " "
   ]
  },
  {
   "cell_type": "code",
   "execution_count": null,
   "id": "5765b1f2-5a65-4a43-bdc3-031406d24f73",
   "metadata": {},
   "outputs": [],
   "source": []
  },
  {
   "cell_type": "code",
   "execution_count": null,
   "id": "2684350e-5442-4a1b-bb1f-292c4c52a8e5",
   "metadata": {},
   "outputs": [],
   "source": [
    "# Import Dataset"
   ]
  },
  {
   "cell_type": "code",
   "execution_count": null,
   "id": "05714a37-a7f4-482d-b8b7-38ce0e8f06a9",
   "metadata": {},
   "outputs": [],
   "source": []
  },
  {
   "cell_type": "code",
   "execution_count": null,
   "id": "9ac95ebe-da6b-40dd-bfbd-683f9fe62ccd",
   "metadata": {},
   "outputs": [],
   "source": [
    "# Preview Data"
   ]
  },
  {
   "cell_type": "code",
   "execution_count": 3,
   "id": "d9bcbf4e-a714-4ad8-b76f-20bbaf516130",
   "metadata": {},
   "outputs": [],
   "source": [
    "# Separate Training part and Testing part of Dataset"
   ]
  },
  {
   "cell_type": "code",
   "execution_count": null,
   "id": "70347c12-7127-4984-8e40-7118a8d6576d",
   "metadata": {},
   "outputs": [],
   "source": []
  },
  {
   "cell_type": "markdown",
   "id": "1253baf6-f346-4a02-b2b1-55a41b3ee09f",
   "metadata": {},
   "source": [
    "### Components of NLP\n",
    "\n",
    "1. Natural Langauage understanding: Making meaning out of spoken or written langauge\n",
    "2. Natural Language Generation: Taking formal presentation of what to say and express it in a natural language like (English, French, Akan, Ewe, Ga)\n",
    "----\n",
    "\n",
    "### Analysis Level of NLP\n",
    "- Morphological Analysis\n",
    "- Syntactic Analysis\n",
    "- Semantic Analysis\n",
    "- Discourse Analysis\n",
    "\n",
    "\n",
    "<h3>BLP Flow Diagram</h3>\n",
    "\n",
    "\n",
    "### Morphology\n",
    "<p>Morphology Analysis refers to the analysis of a word based on the meaningful parts contained within</p>\n",
    "\n",
    "#### Text vectorization\n",
    "<p>Under this section, two things are done</p>\n",
    "\n",
    "- Use a tokenizer to split text into tokens\n",
    "- Build a vocabulary of those tokens"
   ]
  },
  {
   "cell_type": "code",
   "execution_count": 4,
   "id": "6b24f6bf-5726-432d-aec2-91cf548bc5c2",
   "metadata": {},
   "outputs": [],
   "source": [
    "# Build vectorizer"
   ]
  },
  {
   "cell_type": "code",
   "execution_count": null,
   "id": "4136605a-1aa9-4b35-bb2a-1c43053be576",
   "metadata": {},
   "outputs": [],
   "source": []
  },
  {
   "cell_type": "code",
   "execution_count": null,
   "id": "0c77c685-bc59-486b-b0c2-5e3d39179885",
   "metadata": {},
   "outputs": [],
   "source": []
  },
  {
   "cell_type": "markdown",
   "id": "4282632a-38dd-41e2-a44a-e4963e931f00",
   "metadata": {},
   "source": [
    "### Bag-of-words text representation\n",
    "\n",
    "<p>In most cases, words represents meaning. We can make meaning of a piece of text by just looking at the individual words, regardless of their order in the sentence</p>\n",
    "For example:\n",
    "\n",
    "- When classifying news, words like weather, temperature and snow are likely to be news related to weather forecast\n",
    "- Words like stoks, dollar, inflation would count towards fincancial news"
   ]
  },
  {
   "cell_type": "code",
   "execution_count": 5,
   "id": "2f37190a-4a92-4b2b-a7c5-50be771c1975",
   "metadata": {},
   "outputs": [],
   "source": [
    "# Create bow_of_words function"
   ]
  },
  {
   "cell_type": "code",
   "execution_count": null,
   "id": "b4eca435-9300-4eff-abd9-7379f170acc4",
   "metadata": {},
   "outputs": [],
   "source": []
  },
  {
   "cell_type": "code",
   "execution_count": null,
   "id": "b70c59c6-27b3-40bc-9d71-a98cc309d6e9",
   "metadata": {},
   "outputs": [],
   "source": []
  },
  {
   "cell_type": "code",
   "execution_count": 6,
   "id": "a02cbb2b-29b3-484f-b256-1e3b435fa253",
   "metadata": {},
   "outputs": [],
   "source": [
    "# Create objects of train and test dataset in the bow"
   ]
  },
  {
   "cell_type": "code",
   "execution_count": null,
   "id": "eeeb8885-a2fb-44fd-a628-110c018929c0",
   "metadata": {},
   "outputs": [],
   "source": []
  },
  {
   "cell_type": "code",
   "execution_count": null,
   "id": "969b1e7c-8661-40ca-a293-82b182dd6a29",
   "metadata": {},
   "outputs": [],
   "source": []
  },
  {
   "cell_type": "markdown",
   "id": "0c000824-4ed3-43d7-aad6-35e4d4858837",
   "metadata": {},
   "source": [
    "### Build ANN Model"
   ]
  },
  {
   "cell_type": "code",
   "execution_count": 7,
   "id": "bbbd4e88-cc39-48a2-8f7a-d33d37bcb6b3",
   "metadata": {},
   "outputs": [],
   "source": [
    "# Build model"
   ]
  },
  {
   "cell_type": "code",
   "execution_count": null,
   "id": "3f5dc32f-5a91-414e-aef0-4ad279124a6c",
   "metadata": {},
   "outputs": [],
   "source": []
  },
  {
   "cell_type": "code",
   "execution_count": 8,
   "id": "39893e9e-6880-4dc0-a0d0-f4e19f8674fe",
   "metadata": {},
   "outputs": [],
   "source": [
    "# Compile Model"
   ]
  },
  {
   "cell_type": "code",
   "execution_count": null,
   "id": "bebef36b-a94d-42a7-a93c-873b8c695035",
   "metadata": {},
   "outputs": [],
   "source": []
  },
  {
   "cell_type": "code",
   "execution_count": 9,
   "id": "ff61bc0b-01ec-4379-b172-5b4763bece8f",
   "metadata": {},
   "outputs": [],
   "source": [
    "# Fit Model"
   ]
  },
  {
   "cell_type": "code",
   "execution_count": null,
   "id": "5ef94d0d-8207-449d-91b9-ab29479ab7a2",
   "metadata": {},
   "outputs": [],
   "source": []
  },
  {
   "cell_type": "code",
   "execution_count": null,
   "id": "587bfa18-be95-416b-aaee-216c6349e3e2",
   "metadata": {},
   "outputs": [],
   "source": []
  },
  {
   "cell_type": "code",
   "execution_count": null,
   "id": "24a7ae8e-cbc4-4c33-8958-9f569ff00b2c",
   "metadata": {},
   "outputs": [],
   "source": []
  },
  {
   "cell_type": "code",
   "execution_count": 10,
   "id": "e43e4f5d-2e93-49cf-aac4-433bc42ecccc",
   "metadata": {},
   "outputs": [],
   "source": [
    "# Make Predictions"
   ]
  },
  {
   "cell_type": "code",
   "execution_count": null,
   "id": "e8659771-3bd6-425e-95ad-85b8dd61aff7",
   "metadata": {},
   "outputs": [],
   "source": [
    "\n"
   ]
  },
  {
   "cell_type": "code",
   "execution_count": null,
   "id": "029140b7-2876-4ad7-a7d0-2c3dd6d8e929",
   "metadata": {},
   "outputs": [],
   "source": []
  },
  {
   "cell_type": "code",
   "execution_count": null,
   "id": "ac28fefa-ece4-4a7b-97fe-88b45f51f548",
   "metadata": {},
   "outputs": [],
   "source": []
  }
 ],
 "metadata": {
  "kernelspec": {
   "display_name": "Python 3 (ipykernel)",
   "language": "python",
   "name": "python3"
  },
  "language_info": {
   "codemirror_mode": {
    "name": "ipython",
    "version": 3
   },
   "file_extension": ".py",
   "mimetype": "text/x-python",
   "name": "python",
   "nbconvert_exporter": "python",
   "pygments_lexer": "ipython3",
   "version": "3.11.4"
  }
 },
 "nbformat": 4,
 "nbformat_minor": 5
}
